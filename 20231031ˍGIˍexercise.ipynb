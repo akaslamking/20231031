{
  "nbformat": 4,
  "nbformat_minor": 0,
  "metadata": {
    "colab": {
      "provenance": []
    },
    "kernelspec": {
      "name": "python3",
      "display_name": "Python 3"
    },
    "language_info": {
      "name": "python"
    }
  },
  "cells": [
    {
      "cell_type": "code",
      "execution_count": null,
      "metadata": {
        "id": "w-YuL9E4qxVj"
      },
      "outputs": [],
      "source": [
        "num = int(input())\n",
        "check = 0\n",
        "for i in range(1,(num+1)):\n",
        "  if num % i == 0 and i != 1 and i != num:\n",
        "    check = 1\n",
        "if check == 0:\n",
        "  print(num)\n",
        "\n",
        "if check != 0:\n",
        "  max = 0\n",
        "  for i in range(1,(num+1)):\n",
        "    check = 0\n",
        "    for j in range(1,(i+1)):\n",
        "      if i % j == 0 and j != 1 and j != i:\n",
        "        check = 1\n",
        "    if check != 1:\n",
        "      max = i\n",
        "  print(max)"
      ]
    },
    {
      "cell_type": "code",
      "source": [
        "num = input('請輸入數字:')\n",
        "num_l = num.split(',')\n",
        "num_list = [int(i) for i in num_l]\n",
        "print_list = []\n",
        "for i in range(len(num_list)):\n",
        "  print_list.append(0)\n",
        "for i in range(len(num_list)):\n",
        "  count = 0\n",
        "  for j in range(len(num_list)):\n",
        "    if num_list[j] < num_list[i]:\n",
        "      count += 1\n",
        "  print_list[i] = count\n",
        "print(print_list)"
      ],
      "metadata": {
        "id": "8jlcjugMqypK"
      },
      "execution_count": null,
      "outputs": []
    },
    {
      "cell_type": "code",
      "source": [
        "a = input('輸入:')\n",
        "b = list(a)\n",
        "c = [int(i) for i in b]\n",
        "d = []\n",
        "for i in range(len(c)):\n",
        "  d.append(0)\n",
        "for i in range(len(c)):\n",
        "  for j in range(len(c)):\n",
        "    if c[j] == 1 and j-i >= 0:\n",
        "      d[i] += j-i\n",
        "    elif c[j] == 1 and j-i < 0:\n",
        "      d[i] += i-j\n",
        "print(d)"
      ],
      "metadata": {
        "id": "6IsRYoihqzGn"
      },
      "execution_count": null,
      "outputs": []
    }
  ]
}